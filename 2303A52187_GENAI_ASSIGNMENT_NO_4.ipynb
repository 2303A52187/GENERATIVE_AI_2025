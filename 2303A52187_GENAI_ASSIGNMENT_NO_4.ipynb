{
  "cells": [
    {
      "cell_type": "markdown",
      "metadata": {
        "id": "view-in-github",
        "colab_type": "text"
      },
      "source": [
        "<a href=\"https://colab.research.google.com/github/2303A52187/GENERATIVE_AI_2025/blob/main/2303A52187_GENAI_ASSIGNMENT_NO_4.ipynb\" target=\"_parent\"><img src=\"https://colab.research.google.com/assets/colab-badge.svg\" alt=\"Open In Colab\"/></a>"
      ]
    },
    {
      "cell_type": "code",
      "source": [
        "import numpy as np\n",
        "X_train = np.array([\n",
        "    [0.1, 0.2, 0.3],\n",
        "    [0.2, 0.3, 0.4],\n",
        "    [0.3, 0.4, 0.5],\n",
        "    [0.3, 0.5, 0.2],\n",
        "    [0.2, 0.6, 0.3],\n",
        "    [0.4, 0.7, 0.4],\n",
        "    [0.5, 0.7, 0.1]\n",
        "])\n",
        "Y_train = np.array([0.14, 0.20, 0.26, 0.22, 0.28, 0.40, 0.22])\n",
        "X_test = np.array([\n",
        "    [0.6, 0.7, 0.8],\n",
        "    [0.7, 0.8, 0.9]\n",
        "])\n",
        "Y_test = np.array([0.44, 0.50])\n",
        "def sigmoid(x):\n",
        "    return 1 / (1 + np.exp(-x))\n",
        "def mse(y_true, y_pred):\n",
        "    return np.mean((y_true - y_pred) ** 2)\n",
        "def train_ann(X, Y, activation='linear', epochs=1000, lr=0.01):\n",
        "    np.random.seed(42)\n",
        "    weights = np.random.rand(X.shape[1])\n",
        "    bias = np.random.rand()\n",
        "    for epoch in range(epochs):\n",
        "        linear_output = np.dot(X, weights) + bias\n",
        "        if activation == 'sigmoid':\n",
        "            predictions = sigmoid(linear_output)\n",
        "        else:\n",
        "            predictions = linear_output\n",
        "        error = Y - predictions\n",
        "        gradient_w = -2 * np.dot(X.T, error) / len(Y)\n",
        "        gradient_b = -2 * np.mean(error)\n",
        "        weights -= lr * gradient_w\n",
        "        bias -= lr * gradient_b\n",
        "        if epoch % 100 == 0:\n",
        "            print(f'Epoch {epoch}, MSE: {mse(Y, predictions):.4f}')\n",
        "    return weights, bias\n",
        "print(\"Training Linear ANN:\")\n",
        "weights_linear, bias_linear = train_ann(X_train, Y_train, activation='linear')\n",
        "print(\"\\nTraining Sigmoid ANN:\")\n",
        "weights_sigmoid, bias_sigmoid = train_ann(X_train, Y_train, activation='sigmoid')\n",
        "def predict(X, weights, bias, activation='linear'):\n",
        "    linear_output = np.dot(X, weights) + bias\n",
        "    return sigmoid(linear_output) if activation == 'sigmoid' else linear_output\n",
        "print(\"\\nTesting Linear ANN:\")\n",
        "Y_pred_linear = predict(X_test, weights_linear, bias_linear, activation='linear')\n",
        "print(\"Predictions:\", Y_pred_linear)\n",
        "print(\"MSE:\", mse(Y_test, Y_pred_linear))\n",
        "print(\"\\nTesting Sigmoid ANN:\")\n",
        "Y_pred_sigmoid = predict(X_test, weights_sigmoid, bias_sigmoid, activation='sigmoid')\n",
        "print(\"Predictions:\", Y_pred_sigmoid)\n",
        "print(\"MSE:\", mse(Y_test, Y_pred_sigmoid))\n",
        "x_input = np.array([float(i) for i in input(\"Enter values for x1, x2, x3 (comma separated): \").split(',')])\n",
        "prediction_linear = predict(x_input, weights_linear, bias_linear, activation='linear')\n",
        "prediction_sigmoid = predict(x_input, weights_sigmoid, bias_sigmoid, activation='sigmoid')\n",
        "print(f\"\\nLinear ANN Prediction: {prediction_linear:.4f}\")\n",
        "print(f\"Sigmoid ANN Prediction: {prediction_sigmoid:.4f}\")"
      ],
      "metadata": {
        "id": "PSZs-j1i0NJk",
        "outputId": "ff80f4ec-9d5c-4613-96b0-f62291a81072",
        "colab": {
          "base_uri": "https://localhost:8080/"
        }
      },
      "execution_count": null,
      "outputs": [
        {
          "output_type": "stream",
          "name": "stdout",
          "text": [
            "Training Linear ANN:\n",
            "Epoch 0, MSE: 1.3441\n",
            "Epoch 100, MSE: 0.0059\n",
            "Epoch 200, MSE: 0.0017\n",
            "Epoch 300, MSE: 0.0015\n",
            "Epoch 400, MSE: 0.0014\n",
            "Epoch 500, MSE: 0.0013\n",
            "Epoch 600, MSE: 0.0012\n",
            "Epoch 700, MSE: 0.0011\n",
            "Epoch 800, MSE: 0.0010\n",
            "Epoch 900, MSE: 0.0009\n",
            "\n",
            "Training Sigmoid ANN:\n",
            "Epoch 0, MSE: 0.3096\n",
            "Epoch 100, MSE: 0.0947\n",
            "Epoch 200, MSE: 0.0269\n",
            "Epoch 300, MSE: 0.0110\n",
            "Epoch 400, MSE: 0.0069\n",
            "Epoch 500, MSE: 0.0056\n",
            "Epoch 600, MSE: 0.0052\n",
            "Epoch 700, MSE: 0.0050\n",
            "Epoch 800, MSE: 0.0050\n",
            "Epoch 900, MSE: 0.0049\n",
            "\n",
            "Testing Linear ANN:\n",
            "Predictions: [0.61239259 0.71762783]\n",
            "MSE: 0.038540536952746535\n",
            "\n",
            "Testing Sigmoid ANN:\n",
            "Predictions: [0.27615248 0.28335525]\n",
            "MSE: 0.036890478973822756\n",
            "Enter values for x1, x2, x3 (comma separated): 100,200,300\n",
            "\n",
            "Linear ANN Prediction: 252.2794\n",
            "Sigmoid ANN Prediction: 1.0000\n"
          ]
        }
      ]
    }
  ],
  "metadata": {
    "colab": {
      "provenance": [],
      "include_colab_link": true
    },
    "kernelspec": {
      "display_name": "Python 3",
      "name": "python3"
    }
  },
  "nbformat": 4,
  "nbformat_minor": 0
}