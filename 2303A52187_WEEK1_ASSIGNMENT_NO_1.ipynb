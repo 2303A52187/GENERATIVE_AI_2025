{
  "cells": [
    {
      "cell_type": "markdown",
      "metadata": {
        "id": "view-in-github",
        "colab_type": "text"
      },
      "source": [
        "<a href=\"https://colab.research.google.com/github/2303A52187/GENERATIVE_AI_2025/blob/main/2303A52187_WEEK1_ASSIGNMENT_NO_1.ipynb\" target=\"_parent\"><img src=\"https://colab.research.google.com/assets/colab-badge.svg\" alt=\"Open In Colab\"/></a>"
      ]
    },
    {
      "cell_type": "code",
      "source": [
        "import numpy as np\n",
        "from sklearn.metrics import mean_absolute_error, mean_squared_error\n",
        "from math import sqrt\n",
        "from sklearn.linear_model import LinearRegression\n",
        "# Actual values and predicted values\n",
        "y_actual = np.array([20, 30, 40, 50, 60])\n",
        "y_pred = np.array([20.5, 30.3, 40.2, 50.6, 60.7])\n",
        "# Calculate error metrics\n",
        "mae = mean_absolute_error(y_actual, y_pred)  # Mean Absolute Error\n",
        "mse = mean_squared_error(y_actual, y_pred)  # Mean Squared Error\n",
        "rmse = sqrt(mse)  # Root Mean Squared Error\n",
        "# Print error metrics\n",
        "print(f'Mean Absolute Error (MAE): {mae}')\n",
        "print(f'Mean Squared Error (MSE): {mse}')\n",
        "print(f'Root Mean Squared Error (RMSE): {rmse}')\n",
        "# Simple Linear Regression\n",
        "X = y_actual.reshape(-1, 1)  # Reshape data for scikit-learn (2D array for the independent variable)\n",
        "y = y_pred  # Target (dependent variable)\n",
        "# Create and fit the linear regression model\n",
        "model = LinearRegression()\n",
        "model.fit(X, y)\n",
        "# Print the model's coefficients and intercept\n",
        "print(f'Linear Regression Coefficients: {model.coef_}')\n",
        "print(f'Linear Regression Intercept: {model.intercept_}')\n",
        "# Predict using the linear regression model\n",
        "y_pred_lr = model.predict(X)\n",
        "# Print predicted values from the linear regression model\n",
        "print(f'Predicted values using Linear Regression: {y_pred_lr}')"
      ],
      "metadata": {
        "id": "PA4MWq8Cj21h",
        "outputId": "2a620ea4-3e30-4ad5-a7a3-6cd3b193c579",
        "colab": {
          "base_uri": "https://localhost:8080/"
        }
      },
      "execution_count": null,
      "outputs": [
        {
          "output_type": "stream",
          "name": "stdout",
          "text": [
            "Mean Absolute Error (MAE): 0.4600000000000016\n",
            "Mean Squared Error (MSE): 0.24600000000000147\n",
            "Root Mean Squared Error (RMSE): 0.49598387070549127\n",
            "Linear Regression Coefficients: [1.007]\n",
            "Linear Regression Intercept: 0.17999999999999972\n",
            "Predicted values using Linear Regression: [20.32 30.39 40.46 50.53 60.6 ]\n"
          ]
        }
      ]
    },
    {
      "cell_type": "code",
      "source": [
        "import numpy as np\n",
        "from sklearn.metrics import accuracy_score, precision_score, recall_score, f1_score, classification_report, confusion_matrix\n",
        "Y_actual = np.array([0, 0, 1, 1, 2, 0, 0, 0, 1, 0, 2, 0, 0, 1, 1, 2, 2, 1, 0, 2, 1, 0, 2, 2, 0, 2, 1, 2, 2, 2])\n",
        "Y_pred = np.array([0, 0, 1, 0, 2, 0, 0, 1, 1, 2, 2, 1, 0, 2, 1, 0, 2, 2, 0, 2, 1, 2, 2, 2, 0, 2, 1, 2, 2, 2])\n",
        "accuracy = accuracy_score(Y_actual, Y_pred)\n",
        "precision = precision_score(Y_actual, Y_pred, average=None)\n",
        "recall = recall_score(Y_actual, Y_pred, average=None)\n",
        "f1 = f1_score(Y_actual, Y_pred, average=None)\n",
        "conf_matrix = confusion_matrix(Y_actual, Y_pred)\n",
        "print(\"Accuracy:\", accuracy)\n",
        "for i in range(len(precision)):\n",
        "    print(f\"Class {i}: Precision = {precision[i]}, Recall = {recall[i]}, F1-Score = {f1[i]}\")\n",
        "print(\"\\nConfusion Matrix:\")\n",
        "print(conf_matrix)\n",
        "print(\"\\nDetailed Classification Report:\")\n",
        "print(classification_report(Y_actual, Y_pred))"
      ],
      "metadata": {
        "id": "GWcaobmkq0VP",
        "outputId": "b192b746-d7f3-4fcc-b385-8ce865676943",
        "colab": {
          "base_uri": "https://localhost:8080/"
        }
      },
      "execution_count": null,
      "outputs": [
        {
          "output_type": "stream",
          "name": "stdout",
          "text": [
            "Accuracy: 0.7333333333333333\n",
            "Class 0: Precision = 0.7777777777777778, Recall = 0.6363636363636364, F1-Score = 0.7\n",
            "Class 1: Precision = 0.7142857142857143, Recall = 0.625, F1-Score = 0.6666666666666666\n",
            "Class 2: Precision = 0.7142857142857143, Recall = 0.9090909090909091, F1-Score = 0.8\n",
            "\n",
            "Confusion Matrix:\n",
            "[[ 7  2  2]\n",
            " [ 1  5  2]\n",
            " [ 1  0 10]]\n",
            "\n",
            "Detailed Classification Report:\n",
            "              precision    recall  f1-score   support\n",
            "\n",
            "           0       0.78      0.64      0.70        11\n",
            "           1       0.71      0.62      0.67         8\n",
            "           2       0.71      0.91      0.80        11\n",
            "\n",
            "    accuracy                           0.73        30\n",
            "   macro avg       0.74      0.72      0.72        30\n",
            "weighted avg       0.74      0.73      0.73        30\n",
            "\n"
          ]
        }
      ]
    }
  ],
  "metadata": {
    "colab": {
      "provenance": [],
      "include_colab_link": true
    },
    "kernelspec": {
      "display_name": "Python 3",
      "name": "python3"
    }
  },
  "nbformat": 4,
  "nbformat_minor": 0
}