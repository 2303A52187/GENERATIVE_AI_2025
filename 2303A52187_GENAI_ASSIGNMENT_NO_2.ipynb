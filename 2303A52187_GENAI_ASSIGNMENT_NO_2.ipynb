{
  "cells": [
    {
      "cell_type": "markdown",
      "metadata": {
        "id": "view-in-github",
        "colab_type": "text"
      },
      "source": [
        "<a href=\"https://colab.research.google.com/github/2303A52187/GENERATIVE_AI_2025/blob/main/2303A52187_GENAI_ASSIGNMENT_NO_2.ipynb\" target=\"_parent\"><img src=\"https://colab.research.google.com/assets/colab-badge.svg\" alt=\"Open In Colab\"/></a>"
      ]
    },
    {
      "cell_type": "code",
      "source": [
        "from scipy.optimize import linprog\n",
        "# Coefficients of the objective function (profit)\n",
        "# Negative because we minimize -Z (as linprog solves minimization problems)\n",
        "c = [-6, -5]\n",
        "# Coefficients of the inequality constraints\n",
        "A = [\n",
        "    [1, 1],   # Milk constraint\n",
        "    [3, 2]    # Choco constraint\n",
        "]\n",
        "# Right-hand side of the constraints\n",
        "b = [5, 12]\n",
        "# Bounds for variables (A >= 0, B >= 0)\n",
        "x0_bounds = (0, None)  # A >= 0\n",
        "x1_bounds = (0, None)  # B >= 0\n",
        "# Solve the linear programming problem\n",
        "result = linprog(c, A_ub=A, b_ub=b, bounds=[x0_bounds, x1_bounds], method='highs')\n",
        "# Output results\n",
        "if result.success:\n",
        "    print(f\"Optimal number of A: {result.x[0]:.2f}\")\n",
        "    print(f\"Optimal number of B: {result.x[1]:.2f}\")\n",
        "    print(f\"Maximum profit: {-result.fun:.2f}\")\n",
        "else:\n",
        "    print(\"No optimal solution found.\")"
      ],
      "metadata": {
        "id": "LWfECpFqu8Si",
        "outputId": "7509b8f5-1024-41b3-ff75-13fd0e673627",
        "colab": {
          "base_uri": "https://localhost:8080/"
        }
      },
      "execution_count": null,
      "outputs": [
        {
          "output_type": "stream",
          "name": "stdout",
          "text": [
            "Optimal number of A: 2.00\n",
            "Optimal number of B: 3.00\n",
            "Maximum profit: 27.00\n"
          ]
        }
      ]
    },
    {
      "cell_type": "code",
      "source": [
        "#Q2:\n",
        "from scipy.optimize import linprog\n",
        "c = [-50, -120]\n",
        "A = [\n",
        "    [1, 1],\n",
        "    [7000, 2000],\n",
        "    [10, 30]\n",
        "]\n",
        "b = [110, 700000, 1200]\n",
        "x_bounds = (0, None)\n",
        "y_bounds = (0, None)\n",
        "result = linprog(c, A_ub=A, b_ub=b, bounds=[x_bounds, y_bounds], method='highs')\n",
        "if result.success:\n",
        "    x, y = result.x\n",
        "    max_profit = -result.fun\n",
        "    print(f\"Optimal hectares for Wheat: {x:.2f}\")\n",
        "    print(f\"Optimal hectares for Barley: {y:.2f}\")\n",
        "    print(f\"Maximum Profit: Rs {max_profit:.2f}\")\n",
        "else:\n",
        "    print(\"No solution found!\")"
      ],
      "metadata": {
        "id": "fhKROGqbolLe",
        "outputId": "423fc279-87de-4c5e-fb87-df7a7506be5a",
        "colab": {
          "base_uri": "https://localhost:8080/"
        }
      },
      "execution_count": null,
      "outputs": [
        {
          "output_type": "stream",
          "name": "stdout",
          "text": [
            "Optimal hectares for Wheat: 97.89\n",
            "Optimal hectares for Barley: 7.37\n",
            "Maximum Profit: Rs 5778.95\n"
          ]
        }
      ]
    }
  ],
  "metadata": {
    "colab": {
      "provenance": [],
      "include_colab_link": true
    },
    "kernelspec": {
      "display_name": "Python 3",
      "name": "python3"
    }
  },
  "nbformat": 4,
  "nbformat_minor": 0
}