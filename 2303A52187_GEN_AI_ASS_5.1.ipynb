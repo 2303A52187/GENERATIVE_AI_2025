{
  "cells": [
    {
      "cell_type": "markdown",
      "metadata": {
        "id": "view-in-github",
        "colab_type": "text"
      },
      "source": [
        "<a href=\"https://colab.research.google.com/github/2303A52187/GENERATIVE_AI_2025/blob/main/2303A52187_GEN_AI_ASS_5.1.ipynb\" target=\"_parent\"><img src=\"https://colab.research.google.com/assets/colab-badge.svg\" alt=\"Open In Colab\"/></a>"
      ]
    },
    {
      "cell_type": "code",
      "source": [
        "import numpy as np\n",
        "def sigmoid(x):\n",
        "    return 1 / (1 + np.exp(-x))\n",
        "def sigmoid_derivative(x):\n",
        "    return x * (1 - x)\n",
        "def predict(X, weights_input_hidden, bias_hidden, weights_hidden_output, bias_output):\n",
        "    hidden_layer_activation = np.dot(X, weights_input_hidden) + bias_hidden\n",
        "    hidden_layer_output = sigmoid(hidden_layer_activation)\n",
        "    output_layer_activation = np.dot(hidden_layer_output, weights_hidden_output) + bias_output\n",
        "    return output_layer_activation, hidden_layer_output\n",
        "def mean_squared_error(y_true, y_pred):\n",
        "    return np.mean((y_true - y_pred) ** 2)\n",
        "def train(X, y, hidden_neurons=4, learning_rate=0.01, epochs=10000):\n",
        "    input_neurons = X.shape[1]\n",
        "    output_neurons = 1\n",
        "    weights_input_hidden = np.random.rand(input_neurons, hidden_neurons)\n",
        "    bias_hidden = np.random.rand(hidden_neurons)\n",
        "    weights_hidden_output = np.random.rand(hidden_neurons, output_neurons)\n",
        "    bias_output = np.random.rand(output_neurons)\n",
        "    for _ in range(epochs):\n",
        "        hidden_layer_activation = np.dot(X, weights_input_hidden) + bias_hidden\n",
        "        hidden_layer_output = sigmoid(hidden_layer_activation)\n",
        "        output_layer_activation = np.dot(hidden_layer_output, weights_hidden_output) + bias_output\n",
        "        y_pred = output_layer_activation\n",
        "        error = y - y_pred\n",
        "        d_output = error\n",
        "        d_hidden_layer = np.dot(d_output, weights_hidden_output.T) * sigmoid_derivative(hidden_layer_output)\n",
        "        weights_hidden_output += learning_rate * np.dot(hidden_layer_output.T, d_output)\n",
        "        bias_output += learning_rate * np.sum(d_output, axis=0)\n",
        "        weights_input_hidden += learning_rate * np.dot(X.T, d_hidden_layer)\n",
        "        bias_hidden += learning_rate * np.sum(d_hidden_layer, axis=0)\n",
        "    return weights_input_hidden, bias_hidden, weights_hidden_output, bias_output\n",
        "X_train = np.array([\n",
        "    [0.1, 0.2],\n",
        "    [0.2, 0.3],\n",
        "    [0.3, 0.4],\n",
        "    [0.6, 0.7],\n",
        "    [0.7, 0.8],\n",
        "    [0.8, 0.9]\n",
        "])\n",
        "y_train = np.array([[0.3432], [0.3490], [0.3548], [0.3720], [0.3776], [0.3832]])\n",
        "weights_input_hidden, bias_hidden, weights_hidden_output, bias_output = train(X_train, y_train)\n",
        "X_test = np.array([\n",
        "    [0.4, 0.5],\n",
        "    [0.5, 0.6]\n",
        "])\n",
        "y_test = np.array([[0.3606], [0.3663]])\n",
        "y_train_pred, _ = predict(X_train, weights_input_hidden, bias_hidden, weights_hidden_output, bias_output)\n",
        "y_test_pred, _ = predict(X_test, weights_input_hidden, bias_hidden, weights_hidden_output, bias_output)\n",
        "train_mse = mean_squared_error(y_train, y_train_pred)\n",
        "test_mse = mean_squared_error(y_test, y_test_pred)\n",
        "print(f\"Trained Weights (Input to Hidden): {weights_input_hidden}\")\n",
        "print(f\"Trained Bias (Hidden): {bias_hidden}\")\n",
        "print(f\"Trained Weights (Hidden to Output): {weights_hidden_output}\")\n",
        "print(f\"Trained Bias (Output): {bias_output}\")\n",
        "print(f\"Training MSE: {train_mse}\")\n",
        "print(f\"Testing MSE: {test_mse}\")\n",
        "x1, x2 = map(float, input(\"Enter x1, x2: \").split())\n",
        "user_input = np.array([[x1, x2]])\n",
        "prediction, _ = predict(user_input, weights_input_hidden, bias_hidden, weights_hidden_output, bias_output)\n",
        "print(f\"Predicted Output: {prediction[0][0]}\")"
      ],
      "metadata": {
        "id": "7YToSFYp6TUO",
        "outputId": "2ffad7b9-84bb-4389-83c8-890db25e72c2",
        "colab": {
          "base_uri": "https://localhost:8080/"
        }
      },
      "execution_count": null,
      "outputs": [
        {
          "output_type": "stream",
          "name": "stdout",
          "text": [
            "Trained Weights (Input to Hidden): [[0.82236355 0.63716983 0.70304331 0.65072222]\n",
            " [0.26039938 0.84748805 0.45036785 0.8310198 ]]\n",
            "Trained Bias (Hidden): [0.86851653 0.03429175 0.2814155  0.07255801]\n",
            "Trained Weights (Hidden to Output): [[ 0.0454274 ]\n",
            " [-0.22404093]\n",
            " [ 0.33127013]\n",
            " [ 0.13425886]]\n",
            "Trained Bias (Output): [0.15680396]\n",
            "Training MSE: 3.871744755737739e-07\n",
            "Testing MSE: 5.063210619136916e-07\n",
            "Enter x1, x2: 2 8\n",
            "Predicted Output: 0.4416294058903743\n"
          ]
        }
      ]
    }
  ],
  "metadata": {
    "colab": {
      "provenance": [],
      "include_colab_link": true
    },
    "kernelspec": {
      "display_name": "Python 3",
      "name": "python3"
    }
  },
  "nbformat": 4,
  "nbformat_minor": 0
}